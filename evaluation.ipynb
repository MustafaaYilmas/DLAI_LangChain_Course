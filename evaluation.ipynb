{
 "cells": [
  {
   "cell_type": "code",
   "execution_count": 1,
   "metadata": {},
   "outputs": [],
   "source": [
    "import os\n",
    "\n",
    "from dotenv import load_dotenv, find_dotenv\n",
    "_ = load_dotenv(find_dotenv()) # read local .env file"
   ]
  },
  {
   "cell_type": "code",
   "execution_count": 2,
   "metadata": {},
   "outputs": [],
   "source": [
    "from langchain.chains import RetrievalQA\n",
    "from langchain.chat_models import ChatOpenAI\n",
    "from langchain.document_loaders import CSVLoader\n",
    "from langchain.indexes import VectorstoreIndexCreator\n",
    "from langchain.vectorstores import DocArrayInMemorySearch"
   ]
  },
  {
   "cell_type": "code",
   "execution_count": 3,
   "metadata": {},
   "outputs": [],
   "source": [
    "file = 'wine_catalogue.csv'\n",
    "loader = CSVLoader(file_path=file)\n",
    "data = loader.load()"
   ]
  },
  {
   "cell_type": "code",
   "execution_count": 4,
   "metadata": {},
   "outputs": [],
   "source": [
    "index = VectorstoreIndexCreator(\n",
    "    vectorstore_cls=DocArrayInMemorySearch\n",
    ").from_loaders([loader])"
   ]
  },
  {
   "cell_type": "code",
   "execution_count": 5,
   "metadata": {},
   "outputs": [],
   "source": [
    "llm = ChatOpenAI(temperature = 0.0)\n",
    "qa = RetrievalQA.from_chain_type(\n",
    "    llm=llm, \n",
    "    chain_type=\"stuff\", \n",
    "    retriever=index.vectorstore.as_retriever(), \n",
    "    verbose=True,\n",
    "    chain_type_kwargs = {\n",
    "        \"document_separator\": \"<<<<>>>>>\"\n",
    "    }\n",
    ")"
   ]
  },
  {
   "cell_type": "code",
   "execution_count": 10,
   "metadata": {},
   "outputs": [
    {
     "data": {
      "text/plain": [
       "Document(page_content=': 0\\ntitle: Fragolino Rosso Frizzante - Bottega\\ntype: wine-based beverage\\nkind: fragolino\\ncountry: mild - doux - sweet - dolce\\nregion: Italy\\nprice_eur: 5.97\\nvolume_lit: 0.75\\norder_number: 70601-IT-RW-001', metadata={'source': 'wine_catalogue.csv', 'row': 0})"
      ]
     },
     "execution_count": 10,
     "metadata": {},
     "output_type": "execute_result"
    }
   ],
   "source": [
    "data[0]\n"
   ]
  },
  {
   "cell_type": "code",
   "execution_count": 11,
   "metadata": {},
   "outputs": [],
   "source": [
    "examples = [\n",
    "    {\n",
    "        \"query\": \"Is Fleur de d'Artagnan Blanc Côtes de Gascogne 2020 - Plaimont\\\n",
    "        dry\",\n",
    "        \"answer\": \"Yes\"\n",
    "    },\n",
    "    {\n",
    "        \"query\": \"What kind is Fragolino Rosso Frizzante - Bottega?\",\n",
    "        \"answer\": \"fragolino\"\n",
    "    }\n",
    "]"
   ]
  },
  {
   "cell_type": "code",
   "execution_count": 12,
   "metadata": {},
   "outputs": [],
   "source": [
    "from langchain.evaluation.qa import QAGenerateChain\n"
   ]
  },
  {
   "cell_type": "code",
   "execution_count": 13,
   "metadata": {},
   "outputs": [],
   "source": [
    "example_gen_chain = QAGenerateChain.from_llm(ChatOpenAI())"
   ]
  },
  {
   "cell_type": "code",
   "execution_count": 14,
   "metadata": {},
   "outputs": [],
   "source": [
    "new_examples = example_gen_chain.apply_and_parse(\n",
    "    [{\"doc\": t} for t in data[:5]]\n",
    ")"
   ]
  },
  {
   "cell_type": "code",
   "execution_count": 15,
   "metadata": {},
   "outputs": [
    {
     "data": {
      "text/plain": [
       "[{'query': 'What is the name of the wine-based beverage mentioned in the document and what is its origin?',\n",
       "  'answer': 'The name of the wine-based beverage mentioned in the document is Fragolino Rosso Frizzante and it originates from Italy.'},\n",
       " {'query': 'What is the title of the white wine mentioned in the document?',\n",
       "  'answer': 'The title of the white wine mentioned in the document is \"Grauer Burgunder eins zu eins Kabinett trocken 2021 - A. Diehl.\"'},\n",
       " {'query': 'What is the title of the red wine described in this document?',\n",
       "  'answer': 'The title of the red wine described in this document is \"Fabelhaft Tinto Douro DOC Rotwein 2020 - Niepoort\".'},\n",
       " {'query': 'What is the title of the wine listed in the document?',\n",
       "  'answer': 'The title of the wine listed in the document is \"Motivo Rosé extra dry - Borgo Molino\".'},\n",
       " {'query': 'What is the title and type of wine in the document?',\n",
       "  'answer': 'The title of the wine is Mandus Primitivo di Manduria DOC 2019 - Pietra Pura and the type is red wine.'}]"
      ]
     },
     "execution_count": 15,
     "metadata": {},
     "output_type": "execute_result"
    }
   ],
   "source": [
    "new_examples[:5]"
   ]
  },
  {
   "cell_type": "code",
   "execution_count": 16,
   "metadata": {},
   "outputs": [],
   "source": [
    "examples += new_examples"
   ]
  },
  {
   "cell_type": "code",
   "execution_count": 18,
   "metadata": {},
   "outputs": [
    {
     "data": {
      "text/plain": [
       "{'query': \"Is Fleur de d'Artagnan Blanc Côtes de Gascogne 2020 - Plaimont        dry\",\n",
       " 'answer': 'Yes'}"
      ]
     },
     "execution_count": 18,
     "metadata": {},
     "output_type": "execute_result"
    }
   ],
   "source": [
    "examples[0]"
   ]
  },
  {
   "cell_type": "code",
   "execution_count": 17,
   "metadata": {},
   "outputs": [
    {
     "name": "stdout",
     "output_type": "stream",
     "text": [
      "\n",
      "\n",
      "\u001b[1m> Entering new RetrievalQA chain...\u001b[0m\n",
      "\n",
      "\u001b[1m> Finished chain.\u001b[0m\n"
     ]
    },
    {
     "data": {
      "text/plain": [
       "\"Yes, Fleur de d'Artagnan Blanc Côtes de Gascogne 2020 - Plaimont is a dry white wine.\""
      ]
     },
     "execution_count": 17,
     "metadata": {},
     "output_type": "execute_result"
    }
   ],
   "source": [
    "qa.run(examples[0][\"query\"])"
   ]
  },
  {
   "cell_type": "code",
   "execution_count": 19,
   "metadata": {},
   "outputs": [],
   "source": [
    "import langchain\n",
    "langchain.debug = True"
   ]
  },
  {
   "cell_type": "code",
   "execution_count": 20,
   "metadata": {},
   "outputs": [
    {
     "name": "stdout",
     "output_type": "stream",
     "text": [
      "\u001b[32;1m\u001b[1;3m[chain/start]\u001b[0m \u001b[1m[1:chain:RetrievalQA] Entering Chain run with input:\n",
      "\u001b[0m{\n",
      "  \"query\": \"Is Fleur de d'Artagnan Blanc C\\u00f4tes de Gascogne 2020 - Plaimont        dry\"\n",
      "}\n",
      "\u001b[32;1m\u001b[1;3m[chain/start]\u001b[0m \u001b[1m[1:chain:RetrievalQA > 2:chain:StuffDocumentsChain] Entering Chain run with input:\n",
      "\u001b[0m[inputs]\n",
      "\u001b[32;1m\u001b[1;3m[chain/start]\u001b[0m \u001b[1m[1:chain:RetrievalQA > 2:chain:StuffDocumentsChain > 3:chain:LLMChain] Entering Chain run with input:\n",
      "\u001b[0m{\n",
      "  \"question\": \"Is Fleur de d'Artagnan Blanc C\\u00f4tes de Gascogne 2020 - Plaimont        dry\",\n",
      "  \"context\": \": 40\\ntitle: Fleur de d'Artagnan Blanc C\\u00c3\\u00b4tes de Gascogne 2020 - Plaimont\\ntype: white wine\\nkind: dry\\ncountry: France\\nregion: Gascogne (FR)\\nprice_eur: 4.88\\nvolume_lit: 0.75\\norder_number: 70011-FR-WW-BL-005-12<<<<>>>>>: 56\\ntitle: Fleur de d'Artagnan Blanc C\\u00c3\\u00b4tes de Gascogne 2020 - Plaimont\\ntype: white wine\\nkind: dry\\ncountry: France\\nregion: Gascogne (FR)\\nprice_eur: 4.88\\nvolume_lit: 0.75\\norder_number: 70011-FR-WW-BL-005-12<<<<>>>>>: 24\\ntitle: Fleur de d'Artagnan Blanc C\\u00c3\\u00b4tes de Gascogne 2020 - Plaimont\\ntype: white wine\\nkind: dry\\ncountry: France\\nregion: Gascogne (FR)\\nprice_eur: 4.88\\nvolume_lit: 0.75\\norder_number: 70011-FR-WW-BL-005-12<<<<>>>>>: 8\\ntitle: Fleur de d'Artagnan Blanc C\\u00c3\\u00b4tes de Gascogne 2020 - Plaimont\\ntype: white wine\\nkind: dry\\ncountry: France\\nregion: Gascogne (FR)\\nprice_eur: 4.88\\nvolume_lit: 0.75\\norder_number: 70011-FR-WW-BL-005-12\"\n",
      "}\n",
      "\u001b[32;1m\u001b[1;3m[llm/start]\u001b[0m \u001b[1m[1:chain:RetrievalQA > 2:chain:StuffDocumentsChain > 3:chain:LLMChain > 4:llm:ChatOpenAI] Entering LLM run with input:\n",
      "\u001b[0m{\n",
      "  \"prompts\": [\n",
      "    \"System: Use the following pieces of context to answer the users question. \\nIf you don't know the answer, just say that you don't know, don't try to make up an answer.\\n----------------\\n: 40\\ntitle: Fleur de d'Artagnan Blanc C\\u00c3\\u00b4tes de Gascogne 2020 - Plaimont\\ntype: white wine\\nkind: dry\\ncountry: France\\nregion: Gascogne (FR)\\nprice_eur: 4.88\\nvolume_lit: 0.75\\norder_number: 70011-FR-WW-BL-005-12<<<<>>>>>: 56\\ntitle: Fleur de d'Artagnan Blanc C\\u00c3\\u00b4tes de Gascogne 2020 - Plaimont\\ntype: white wine\\nkind: dry\\ncountry: France\\nregion: Gascogne (FR)\\nprice_eur: 4.88\\nvolume_lit: 0.75\\norder_number: 70011-FR-WW-BL-005-12<<<<>>>>>: 24\\ntitle: Fleur de d'Artagnan Blanc C\\u00c3\\u00b4tes de Gascogne 2020 - Plaimont\\ntype: white wine\\nkind: dry\\ncountry: France\\nregion: Gascogne (FR)\\nprice_eur: 4.88\\nvolume_lit: 0.75\\norder_number: 70011-FR-WW-BL-005-12<<<<>>>>>: 8\\ntitle: Fleur de d'Artagnan Blanc C\\u00c3\\u00b4tes de Gascogne 2020 - Plaimont\\ntype: white wine\\nkind: dry\\ncountry: France\\nregion: Gascogne (FR)\\nprice_eur: 4.88\\nvolume_lit: 0.75\\norder_number: 70011-FR-WW-BL-005-12\\nHuman: Is Fleur de d'Artagnan Blanc C\\u00f4tes de Gascogne 2020 - Plaimont        dry\"\n",
      "  ]\n",
      "}\n",
      "\u001b[36;1m\u001b[1;3m[llm/end]\u001b[0m \u001b[1m[1:chain:RetrievalQA > 2:chain:StuffDocumentsChain > 3:chain:LLMChain > 4:llm:ChatOpenAI] [2.82s] Exiting LLM run with output:\n",
      "\u001b[0m{\n",
      "  \"generations\": [\n",
      "    [\n",
      "      {\n",
      "        \"text\": \"Yes, Fleur de d'Artagnan Blanc C\\u00f4tes de Gascogne 2020 - Plaimont is a dry white wine.\",\n",
      "        \"generation_info\": null,\n",
      "        \"message\": {\n",
      "          \"content\": \"Yes, Fleur de d'Artagnan Blanc C\\u00f4tes de Gascogne 2020 - Plaimont is a dry white wine.\",\n",
      "          \"additional_kwargs\": {},\n",
      "          \"example\": false\n",
      "        }\n",
      "      }\n",
      "    ]\n",
      "  ],\n",
      "  \"llm_output\": {\n",
      "    \"token_usage\": {\n",
      "      \"prompt_tokens\": 425,\n",
      "      \"completion_tokens\": 31,\n",
      "      \"total_tokens\": 456\n",
      "    },\n",
      "    \"model_name\": \"gpt-3.5-turbo\"\n",
      "  }\n",
      "}\n",
      "\u001b[36;1m\u001b[1;3m[chain/end]\u001b[0m \u001b[1m[1:chain:RetrievalQA > 2:chain:StuffDocumentsChain > 3:chain:LLMChain] [2.82s] Exiting Chain run with output:\n",
      "\u001b[0m{\n",
      "  \"text\": \"Yes, Fleur de d'Artagnan Blanc C\\u00f4tes de Gascogne 2020 - Plaimont is a dry white wine.\"\n",
      "}\n",
      "\u001b[36;1m\u001b[1;3m[chain/end]\u001b[0m \u001b[1m[1:chain:RetrievalQA > 2:chain:StuffDocumentsChain] [2.82s] Exiting Chain run with output:\n",
      "\u001b[0m{\n",
      "  \"output_text\": \"Yes, Fleur de d'Artagnan Blanc C\\u00f4tes de Gascogne 2020 - Plaimont is a dry white wine.\"\n",
      "}\n",
      "\u001b[36;1m\u001b[1;3m[chain/end]\u001b[0m \u001b[1m[1:chain:RetrievalQA] [3.24s] Exiting Chain run with output:\n",
      "\u001b[0m{\n",
      "  \"result\": \"Yes, Fleur de d'Artagnan Blanc C\\u00f4tes de Gascogne 2020 - Plaimont is a dry white wine.\"\n",
      "}\n"
     ]
    },
    {
     "data": {
      "text/plain": [
       "\"Yes, Fleur de d'Artagnan Blanc Côtes de Gascogne 2020 - Plaimont is a dry white wine.\""
      ]
     },
     "execution_count": 20,
     "metadata": {},
     "output_type": "execute_result"
    }
   ],
   "source": [
    "qa.run(examples[0][\"query\"])"
   ]
  },
  {
   "cell_type": "code",
   "execution_count": 21,
   "metadata": {},
   "outputs": [],
   "source": [
    "langchain.debug = False"
   ]
  },
  {
   "cell_type": "code",
   "execution_count": 22,
   "metadata": {},
   "outputs": [
    {
     "name": "stdout",
     "output_type": "stream",
     "text": [
      "\n",
      "\n",
      "\u001b[1m> Entering new RetrievalQA chain...\u001b[0m\n",
      "\n",
      "\u001b[1m> Finished chain.\u001b[0m\n",
      "\n",
      "\n",
      "\u001b[1m> Entering new RetrievalQA chain...\u001b[0m\n",
      "\n",
      "\u001b[1m> Finished chain.\u001b[0m\n",
      "\n",
      "\n",
      "\u001b[1m> Entering new RetrievalQA chain...\u001b[0m\n",
      "\n",
      "\u001b[1m> Finished chain.\u001b[0m\n",
      "\n",
      "\n",
      "\u001b[1m> Entering new RetrievalQA chain...\u001b[0m\n",
      "\n",
      "\u001b[1m> Finished chain.\u001b[0m\n",
      "\n",
      "\n",
      "\u001b[1m> Entering new RetrievalQA chain...\u001b[0m\n",
      "\n",
      "\u001b[1m> Finished chain.\u001b[0m\n",
      "\n",
      "\n",
      "\u001b[1m> Entering new RetrievalQA chain...\u001b[0m\n",
      "\n",
      "\u001b[1m> Finished chain.\u001b[0m\n",
      "\n",
      "\n",
      "\u001b[1m> Entering new RetrievalQA chain...\u001b[0m\n",
      "\n",
      "\u001b[1m> Finished chain.\u001b[0m\n"
     ]
    }
   ],
   "source": [
    "predictions = qa.apply(examples)"
   ]
  },
  {
   "cell_type": "code",
   "execution_count": 23,
   "metadata": {},
   "outputs": [],
   "source": [
    "from langchain.evaluation.qa import QAEvalChain"
   ]
  },
  {
   "cell_type": "code",
   "execution_count": 24,
   "metadata": {},
   "outputs": [],
   "source": [
    "llm = ChatOpenAI(temperature=0)\n",
    "eval_chain = QAEvalChain.from_llm(llm)"
   ]
  },
  {
   "cell_type": "code",
   "execution_count": 25,
   "metadata": {},
   "outputs": [],
   "source": [
    "graded_outputs = eval_chain.evaluate(examples, predictions)"
   ]
  },
  {
   "cell_type": "code",
   "execution_count": 26,
   "metadata": {},
   "outputs": [
    {
     "name": "stdout",
     "output_type": "stream",
     "text": [
      "Example 0:\n",
      "Question: Is Fleur de d'Artagnan Blanc Côtes de Gascogne 2020 - Plaimont        dry\n",
      "Real Answer: Yes\n",
      "Predicted Answer: Yes, Fleur de d'Artagnan Blanc Côtes de Gascogne 2020 - Plaimont is a dry white wine.\n",
      "Predicted Grade: CORRECT\n",
      "\n",
      "Example 1:\n",
      "Question: What kind is Fragolino Rosso Frizzante - Bottega?\n",
      "Real Answer: fragolino\n",
      "Predicted Answer: Fragolino Rosso Frizzante - Bottega is a fragolino, which is a wine-based beverage.\n",
      "Predicted Grade: CORRECT\n",
      "\n",
      "Example 2:\n",
      "Question: What is the name of the wine-based beverage mentioned in the document and what is its origin?\n",
      "Real Answer: The name of the wine-based beverage mentioned in the document is Fragolino Rosso Frizzante and it originates from Italy.\n",
      "Predicted Answer: The name of the wine-based beverage mentioned in the document is Fragolino Rosso Frizzante - Bottega and its origin is Italy.\n",
      "Predicted Grade: CORRECT\n",
      "\n",
      "Example 3:\n",
      "Question: What is the title of the white wine mentioned in the document?\n",
      "Real Answer: The title of the white wine mentioned in the document is \"Grauer Burgunder eins zu eins Kabinett trocken 2021 - A. Diehl.\"\n",
      "Predicted Answer: The title of the white wine mentioned in the document is \"Horgelus Blanc Côtes de Gascogne 2021 - Domaine Horgelus\".\n",
      "Predicted Grade: INCORRECT\n",
      "\n",
      "Example 4:\n",
      "Question: What is the title of the red wine described in this document?\n",
      "Real Answer: The title of the red wine described in this document is \"Fabelhaft Tinto Douro DOC Rotwein 2020 - Niepoort\".\n",
      "Predicted Answer: The title of the red wine described in this document is \"Corvo Rosso Terre Siciliane 2019 - Duca di Salaparuta\".\n",
      "Predicted Grade: INCORRECT\n",
      "\n",
      "Example 5:\n",
      "Question: What is the title of the wine listed in the document?\n",
      "Real Answer: The title of the wine listed in the document is \"Motivo Rosé extra dry - Borgo Molino\".\n",
      "Predicted Answer: The title of the wine listed in the document is \"Grauer Burgunder eins zu eins Kabinett trocken 2021 - A. Diehl\".\n",
      "Predicted Grade: INCORRECT\n",
      "\n",
      "Example 6:\n",
      "Question: What is the title and type of wine in the document?\n",
      "Real Answer: The title of the wine is Mandus Primitivo di Manduria DOC 2019 - Pietra Pura and the type is red wine.\n",
      "Predicted Answer: The title of the wine is \"Grauer Burgunder eins zu eins Kabinett trocken 2021 - A. Diehl\" and the type of wine is white wine.\n",
      "Predicted Grade: INCORRECT\n",
      "\n"
     ]
    }
   ],
   "source": [
    "for i, eg in enumerate(examples):\n",
    "    print(f\"Example {i}:\")\n",
    "    print(\"Question: \" + predictions[i]['query'])\n",
    "    print(\"Real Answer: \" + predictions[i]['answer'])\n",
    "    print(\"Predicted Answer: \" + predictions[i]['result'])\n",
    "    print(\"Predicted Grade: \" + graded_outputs[i]['text'])\n",
    "    print()"
   ]
  },
  {
   "cell_type": "code",
   "execution_count": null,
   "metadata": {},
   "outputs": [],
   "source": [
    "#dataset tam olarak bu alanda calismaya uygun degil fakat daha iyisi yapilabilirdi..."
   ]
  }
 ],
 "metadata": {
  "kernelspec": {
   "display_name": "Python 3",
   "language": "python",
   "name": "python3"
  },
  "language_info": {
   "codemirror_mode": {
    "name": "ipython",
    "version": 3
   },
   "file_extension": ".py",
   "mimetype": "text/x-python",
   "name": "python",
   "nbconvert_exporter": "python",
   "pygments_lexer": "ipython3",
   "version": "3.10.11"
  },
  "orig_nbformat": 4
 },
 "nbformat": 4,
 "nbformat_minor": 2
}
