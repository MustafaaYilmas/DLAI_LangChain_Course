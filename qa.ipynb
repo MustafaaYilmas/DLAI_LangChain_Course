{
 "cells": [
  {
   "cell_type": "code",
   "execution_count": 1,
   "metadata": {},
   "outputs": [],
   "source": [
    "import os\n",
    "\n",
    "from dotenv import load_dotenv, find_dotenv\n",
    "_ = load_dotenv(find_dotenv())"
   ]
  },
  {
   "cell_type": "code",
   "execution_count": 2,
   "metadata": {},
   "outputs": [],
   "source": [
    "from langchain.chains import RetrievalQA\n",
    "from langchain.chat_models import ChatOpenAI\n",
    "from langchain.document_loaders import CSVLoader\n",
    "from langchain.vectorstores import DocArrayInMemorySearch\n",
    "from IPython.display import display, Markdown"
   ]
  },
  {
   "cell_type": "code",
   "execution_count": 3,
   "metadata": {},
   "outputs": [],
   "source": [
    "file = 'wine_catalogue.csv'\n",
    "loader = CSVLoader(file_path=file)"
   ]
  },
  {
   "cell_type": "code",
   "execution_count": 14,
   "metadata": {},
   "outputs": [],
   "source": [
    "from langchain.indexes import VectorstoreIndexCreator"
   ]
  },
  {
   "cell_type": "code",
   "execution_count": 15,
   "metadata": {},
   "outputs": [],
   "source": [
    "index = VectorstoreIndexCreator(\n",
    "    vectorstore_cls=DocArrayInMemorySearch\n",
    ").from_loaders([loader])"
   ]
  },
  {
   "cell_type": "code",
   "execution_count": 16,
   "metadata": {},
   "outputs": [],
   "source": [
    "query = \"Can you list all wines that cost between $5 and $6 \\\n",
    "    in a table in markdown and summarize each one?\""
   ]
  },
  {
   "cell_type": "code",
   "execution_count": 17,
   "metadata": {},
   "outputs": [],
   "source": [
    "response = index.query(query)"
   ]
  },
  {
   "cell_type": "code",
   "execution_count": 18,
   "metadata": {},
   "outputs": [
    {
     "data": {
      "text/markdown": [
       " No, I don't know how to do that."
      ],
      "text/plain": [
       "<IPython.core.display.Markdown object>"
      ]
     },
     "metadata": {},
     "output_type": "display_data"
    }
   ],
   "source": [
    "display(Markdown(response))"
   ]
  },
  {
   "cell_type": "code",
   "execution_count": 19,
   "metadata": {},
   "outputs": [],
   "source": [
    "loader = CSVLoader(file_path=file)"
   ]
  },
  {
   "cell_type": "code",
   "execution_count": 20,
   "metadata": {},
   "outputs": [],
   "source": [
    "docs = loader.load()"
   ]
  },
  {
   "cell_type": "code",
   "execution_count": 21,
   "metadata": {},
   "outputs": [
    {
     "data": {
      "text/plain": [
       "Document(page_content=': 0\\ntitle: Fragolino Rosso Frizzante - Bottega\\ntype: wine-based beverage\\nkind: fragolino\\ncountry: mild - doux - sweet - dolce\\nregion: Italy\\nprice_eur: 5.97\\nvolume_lit: 0.75\\norder_number: 70601-IT-RW-001', metadata={'source': 'wine_catalogue.csv', 'row': 0})"
      ]
     },
     "execution_count": 21,
     "metadata": {},
     "output_type": "execute_result"
    }
   ],
   "source": [
    "docs[0]"
   ]
  },
  {
   "cell_type": "code",
   "execution_count": 56,
   "metadata": {},
   "outputs": [],
   "source": [
    "from langchain.embeddings import OpenAIEmbeddings\n",
    "embeddings = OpenAIEmbeddings()"
   ]
  },
  {
   "cell_type": "code",
   "execution_count": 57,
   "metadata": {},
   "outputs": [],
   "source": [
    "embed = embeddings.embed_query(\"Hi my name is Mustafa\")"
   ]
  },
  {
   "cell_type": "code",
   "execution_count": 58,
   "metadata": {},
   "outputs": [
    {
     "name": "stdout",
     "output_type": "stream",
     "text": [
      "1536\n"
     ]
    }
   ],
   "source": [
    "print(len(embed))"
   ]
  },
  {
   "cell_type": "code",
   "execution_count": 59,
   "metadata": {},
   "outputs": [
    {
     "name": "stdout",
     "output_type": "stream",
     "text": [
      "[-0.03693114593625069, -0.013942343182861805, -0.024672165513038635, -0.04150577634572983, -0.02076573856174946]\n"
     ]
    }
   ],
   "source": [
    "print(embed[:5])"
   ]
  },
  {
   "cell_type": "code",
   "execution_count": 60,
   "metadata": {},
   "outputs": [],
   "source": [
    "db = DocArrayInMemorySearch.from_documents(\n",
    "    docs, \n",
    "    embeddings\n",
    ")"
   ]
  },
  {
   "cell_type": "code",
   "execution_count": 61,
   "metadata": {},
   "outputs": [],
   "source": [
    "query = \"Please suggest a wine that include 'Aimery' in name\""
   ]
  },
  {
   "cell_type": "code",
   "execution_count": 62,
   "metadata": {},
   "outputs": [],
   "source": [
    "docs = db.similarity_search(query)"
   ]
  },
  {
   "cell_type": "code",
   "execution_count": 63,
   "metadata": {},
   "outputs": [
    {
     "data": {
      "text/plain": [
       "4"
      ]
     },
     "execution_count": 63,
     "metadata": {},
     "output_type": "execute_result"
    }
   ],
   "source": [
    "len(docs)"
   ]
  },
  {
   "cell_type": "code",
   "execution_count": 64,
   "metadata": {},
   "outputs": [
    {
     "data": {
      "text/plain": [
       "Document(page_content=\": 5000\\ntitle: Fleur de d'Artagnan Blanc CÃ´tes de Gascogne 2020 - Plaimont\\ntype: white wine\\nkind: dry\\ncountry: France\\nregion: Gascogne (FR)\\nprice_eur: 4.88\\nvolume_lit: 0.75\\norder_number: 70011-FR-WW-BL-005-12\", metadata={'source': 'wine_catalogue.csv', 'row': 5000})"
      ]
     },
     "execution_count": 64,
     "metadata": {},
     "output_type": "execute_result"
    }
   ],
   "source": [
    "docs[0]"
   ]
  },
  {
   "cell_type": "code",
   "execution_count": 65,
   "metadata": {},
   "outputs": [],
   "source": [
    "retriever = db.as_retriever()"
   ]
  },
  {
   "cell_type": "code",
   "execution_count": 66,
   "metadata": {},
   "outputs": [],
   "source": [
    "llm = ChatOpenAI(temperature = 0.0)\n"
   ]
  },
  {
   "cell_type": "code",
   "execution_count": 67,
   "metadata": {},
   "outputs": [],
   "source": [
    "qdocs = \"\".join([docs[i].page_content for i in range(len(docs))])\n"
   ]
  },
  {
   "cell_type": "code",
   "execution_count": 72,
   "metadata": {},
   "outputs": [],
   "source": [
    "response = llm.call_as_llm(f\"{qdocs} Question: Can you list all wines that include 'Blanc' in name \\\n",
    "    in a table in markdown and summarize each one?\") \n"
   ]
  },
  {
   "cell_type": "code",
   "execution_count": 73,
   "metadata": {},
   "outputs": [
    {
     "data": {
      "text/markdown": [
       "| Title | Type | Kind | Country | Region | Price (EUR) | Volume (L) | Order Number |\n",
       "|-------|------|------|---------|--------|-------------|------------|--------------|\n",
       "| Fleur de d'Artagnan Blanc Côtes de Gascogne 2020 - Plaimont | White wine | Dry | France | Gascogne (FR) | 4.88 | 0.75 | 70011-FR-WW-BL-005-12: 6001 |\n",
       "| Grauer Burgunder eins zu eins Kabinett trocken 2021 - A. Diehl | White wine | Dry | Germany | Palatinate | 7.49 | 0.75 | 70126-DE-WW-PG-002-12: 65 |\n",
       "| Grauer Burgunder eins zu eins Kabinett trocken 2021 - A. Diehl | White wine | Dry | Germany | Palatinate | 7.49 | 0.75 | 70126-DE-WW-PG-002-12: 7990 |\n",
       "| Horgelus Blanc Côtes de Gascogne 2021 - Domaine Horgelus | White wine | Dry | France | Gascogne (FR) | 6.53 | 0.75 | 70217-FR-WW-BL-001-11 |\n",
       "\n",
       "- Fleur de d'Artagnan Blanc Côtes de Gascogne 2020 - Plaimont: A dry white wine from France's Gascogne region with a price of 4.88 EUR per 0.75 L bottle.\n",
       "- Grauer Burgunder eins zu eins Kabinett trocken 2021 - A. Diehl: A dry white wine from Germany's Palatinate region with a price of 7.49 EUR per 0.75 L bottle. There are two orders with different order numbers.\n",
       "- Horgelus Blanc Côtes de Gascogne 2021 - Domaine Horgelus: A dry white wine from France's Gascogne region with a price of 6.53 EUR per 0.75 L bottle."
      ],
      "text/plain": [
       "<IPython.core.display.Markdown object>"
      ]
     },
     "metadata": {},
     "output_type": "display_data"
    }
   ],
   "source": [
    "display(Markdown(response))"
   ]
  },
  {
   "cell_type": "code",
   "execution_count": 74,
   "metadata": {},
   "outputs": [],
   "source": [
    "qa_stuff = RetrievalQA.from_chain_type(\n",
    "    llm=llm, \n",
    "    chain_type=\"stuff\", \n",
    "    retriever=retriever, \n",
    "    verbose=True\n",
    ")"
   ]
  },
  {
   "cell_type": "code",
   "execution_count": 76,
   "metadata": {},
   "outputs": [],
   "source": [
    "query =  \"Can you list all wines that cost between €5 and €6 \\\n",
    "    in a table in markdown and summarize each one?\""
   ]
  },
  {
   "cell_type": "code",
   "execution_count": 77,
   "metadata": {},
   "outputs": [
    {
     "name": "stdout",
     "output_type": "stream",
     "text": [
      "\n",
      "\n",
      "\u001b[1m> Entering new RetrievalQA chain...\u001b[0m\n",
      "\n",
      "\u001b[1m> Finished chain.\u001b[0m\n"
     ]
    }
   ],
   "source": [
    "response = qa_stuff.run(query)"
   ]
  },
  {
   "cell_type": "code",
   "execution_count": 78,
   "metadata": {},
   "outputs": [
    {
     "data": {
      "text/markdown": [
       "| Order Number | Title | Type | Kind | Country | Region | Price (EUR) | Volume (L) |\n",
       "|--------------|-------|------|------|---------|--------|-------------|------------|\n",
       "| 70011-FR-WW-BL-005-12 | Fleur de d'Artagnan Blanc CÃ´tes de Gascogne 2020 - Plaimont | White Wine | Dry | France | Gascogne (FR) | 4.88 | 0.75 |\n",
       "| 70217-FR-WW-BL-001-11 | Horgelus Blanc CÃ´tes de Gascogne 2021 - Domaine Horgelus | White Wine | Dry | France | Gascogne (FR) | 6.53 | 0.75 |\n",
       "\n",
       "- Fleur de d'Artagnan Blanc CÃ´tes de Gascogne 2020 - Plaimont: This is a white wine from France, specifically from the Gascogne region. It is a dry wine that costs €4.88 and comes in a 0.75 L bottle.\n",
       "- Horgelus Blanc CÃ´tes de Gascogne 2021 - Domaine Horgelus: This is another white wine from France, also from the Gascogne region. It is a dry wine that costs €6.53 and comes in a 0.75 L bottle."
      ],
      "text/plain": [
       "<IPython.core.display.Markdown object>"
      ]
     },
     "metadata": {},
     "output_type": "display_data"
    }
   ],
   "source": [
    "display(Markdown(response))"
   ]
  },
  {
   "cell_type": "code",
   "execution_count": 79,
   "metadata": {},
   "outputs": [],
   "source": [
    "response = index.query(query, llm=llm)"
   ]
  },
  {
   "cell_type": "code",
   "execution_count": 80,
   "metadata": {},
   "outputs": [],
   "source": [
    "index = VectorstoreIndexCreator(\n",
    "    vectorstore_cls=DocArrayInMemorySearch,\n",
    "    embedding=embeddings,\n",
    ").from_loaders([loader])"
   ]
  },
  {
   "cell_type": "code",
   "execution_count": null,
   "metadata": {},
   "outputs": [],
   "source": []
  }
 ],
 "metadata": {
  "kernelspec": {
   "display_name": "Python 3",
   "language": "python",
   "name": "python3"
  },
  "language_info": {
   "codemirror_mode": {
    "name": "ipython",
    "version": 3
   },
   "file_extension": ".py",
   "mimetype": "text/x-python",
   "name": "python",
   "nbconvert_exporter": "python",
   "pygments_lexer": "ipython3",
   "version": "3.10.11"
  },
  "orig_nbformat": 4
 },
 "nbformat": 4,
 "nbformat_minor": 2
}
