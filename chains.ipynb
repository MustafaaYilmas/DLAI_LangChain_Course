{
 "cells": [
  {
   "cell_type": "code",
   "execution_count": 1,
   "metadata": {},
   "outputs": [],
   "source": [
    "import warnings\n",
    "warnings.filterwarnings('ignore')"
   ]
  },
  {
   "cell_type": "code",
   "execution_count": 3,
   "metadata": {},
   "outputs": [],
   "source": [
    "import os\n",
    "\n",
    "from dotenv import load_dotenv, find_dotenv\n",
    "_ = load_dotenv(find_dotenv()) # read local .env file"
   ]
  },
  {
   "cell_type": "code",
   "execution_count": 43,
   "metadata": {},
   "outputs": [],
   "source": [
    "import pandas as pd\n",
    "df = pd.read_csv('Data.csv')"
   ]
  },
  {
   "cell_type": "code",
   "execution_count": 44,
   "metadata": {},
   "outputs": [
    {
     "data": {
      "text/html": [
       "<div>\n",
       "<style scoped>\n",
       "    .dataframe tbody tr th:only-of-type {\n",
       "        vertical-align: middle;\n",
       "    }\n",
       "\n",
       "    .dataframe tbody tr th {\n",
       "        vertical-align: top;\n",
       "    }\n",
       "\n",
       "    .dataframe thead th {\n",
       "        text-align: right;\n",
       "    }\n",
       "</style>\n",
       "<table border=\"1\" class=\"dataframe\">\n",
       "  <thead>\n",
       "    <tr style=\"text-align: right;\">\n",
       "      <th></th>\n",
       "      <th>Title</th>\n",
       "      <th>PositiveReview</th>\n",
       "      <th>NegativeReview</th>\n",
       "      <th>Score</th>\n",
       "      <th>GuestName</th>\n",
       "      <th>GuestCountry</th>\n",
       "      <th>RoomType</th>\n",
       "      <th>NumberOfNights</th>\n",
       "      <th>VisitDate</th>\n",
       "      <th>GroupType</th>\n",
       "      <th>PropertyResponse</th>\n",
       "    </tr>\n",
       "  </thead>\n",
       "  <tbody>\n",
       "    <tr>\n",
       "      <th>0</th>\n",
       "      <td>Wonderful place to stay.</td>\n",
       "      <td>New, comfortable apartments, close to the airp...</td>\n",
       "      <td>Nothing at all.</td>\n",
       "      <td>10.0</td>\n",
       "      <td>Olga</td>\n",
       "      <td>Norway</td>\n",
       "      <td>Budget Twin Room</td>\n",
       "      <td>1 night</td>\n",
       "      <td>June 2022</td>\n",
       "      <td>Solo traveler</td>\n",
       "      <td>NaN</td>\n",
       "    </tr>\n",
       "    <tr>\n",
       "      <th>1</th>\n",
       "      <td>It was superb</td>\n",
       "      <td>We had a really pleasant stay! The staff was v...</td>\n",
       "      <td>NaN</td>\n",
       "      <td>10.0</td>\n",
       "      <td>Iwona</td>\n",
       "      <td>Poland</td>\n",
       "      <td>Double Room</td>\n",
       "      <td>3 nights</td>\n",
       "      <td>December 2022</td>\n",
       "      <td>Family</td>\n",
       "      <td>NaN</td>\n",
       "    </tr>\n",
       "    <tr>\n",
       "      <th>2</th>\n",
       "      <td>Very Good</td>\n",
       "      <td>the location is great and near the airport. bu...</td>\n",
       "      <td>NaN</td>\n",
       "      <td>8.0</td>\n",
       "      <td>Ruijia</td>\n",
       "      <td>Sweden</td>\n",
       "      <td>Double Room</td>\n",
       "      <td>1 night</td>\n",
       "      <td>December 2022</td>\n",
       "      <td>Solo traveler</td>\n",
       "      <td>NaN</td>\n",
       "    </tr>\n",
       "    <tr>\n",
       "      <th>3</th>\n",
       "      <td>Wonderful</td>\n",
       "      <td>Great stuff\\nGreat Quality/price\\nClean</td>\n",
       "      <td>NaN</td>\n",
       "      <td>9.0</td>\n",
       "      <td>Theprincem</td>\n",
       "      <td>United Kingdom</td>\n",
       "      <td>Double Room with Balcony</td>\n",
       "      <td>2 nights</td>\n",
       "      <td>September 2022</td>\n",
       "      <td>Solo traveler</td>\n",
       "      <td>NaN</td>\n",
       "    </tr>\n",
       "    <tr>\n",
       "      <th>4</th>\n",
       "      <td>Fantastic value for a new, modern and spotless...</td>\n",
       "      <td>Clean and modern with very comfortable beds, i...</td>\n",
       "      <td>NaN</td>\n",
       "      <td>10.0</td>\n",
       "      <td>M</td>\n",
       "      <td>Switzerland</td>\n",
       "      <td>Family Suite with Balcony</td>\n",
       "      <td>1 night</td>\n",
       "      <td>October 2022</td>\n",
       "      <td>Family</td>\n",
       "      <td>NaN</td>\n",
       "    </tr>\n",
       "  </tbody>\n",
       "</table>\n",
       "</div>"
      ],
      "text/plain": [
       "                                               Title  \\\n",
       "0                           Wonderful place to stay.   \n",
       "1                                      It was superb   \n",
       "2                                          Very Good   \n",
       "3                                          Wonderful   \n",
       "4  Fantastic value for a new, modern and spotless...   \n",
       "\n",
       "                                      PositiveReview   NegativeReview  Score  \\\n",
       "0  New, comfortable apartments, close to the airp...  Nothing at all.   10.0   \n",
       "1  We had a really pleasant stay! The staff was v...              NaN   10.0   \n",
       "2  the location is great and near the airport. bu...              NaN    8.0   \n",
       "3            Great stuff\\nGreat Quality/price\\nClean              NaN    9.0   \n",
       "4  Clean and modern with very comfortable beds, i...              NaN   10.0   \n",
       "\n",
       "    GuestName    GuestCountry                   RoomType NumberOfNights  \\\n",
       "0        Olga          Norway           Budget Twin Room        1 night   \n",
       "1       Iwona          Poland                Double Room       3 nights   \n",
       "2      Ruijia          Sweden                Double Room        1 night   \n",
       "3  Theprincem  United Kingdom   Double Room with Balcony       2 nights   \n",
       "4           M     Switzerland  Family Suite with Balcony        1 night   \n",
       "\n",
       "        VisitDate      GroupType PropertyResponse  \n",
       "0       June 2022  Solo traveler              NaN  \n",
       "1   December 2022         Family              NaN  \n",
       "2   December 2022  Solo traveler              NaN  \n",
       "3  September 2022  Solo traveler              NaN  \n",
       "4    October 2022         Family              NaN  "
      ]
     },
     "execution_count": 44,
     "metadata": {},
     "output_type": "execute_result"
    }
   ],
   "source": [
    "df.head()"
   ]
  },
  {
   "cell_type": "code",
   "execution_count": 85,
   "metadata": {},
   "outputs": [],
   "source": [
    "from langchain.chat_models import ChatOpenAI\n",
    "from langchain.prompts import ChatPromptTemplate\n",
    "from langchain.chains import LLMChain\n",
    "from langchain.chains import SequentialChain"
   ]
  },
  {
   "cell_type": "code",
   "execution_count": 90,
   "metadata": {},
   "outputs": [],
   "source": [
    "llm = ChatOpenAI(temperature=0.9)\n",
    "\n",
    "first_prompt = ChatPromptTemplate.from_template(\n",
    "\"Can you prepare a apology \\\n",
    "message about NegativeReview \\\n",
    "addressing the user by name? Follow this file:\"\n",
    "\"\\n\\n{Otels_Review}\"\n",
    ")\n",
    "chain_one = LLMChain(llm=llm, prompt=first_prompt, \n",
    "                     output_key=\"ApologyMessage\"\n",
    "                    )\n"
   ]
  },
  {
   "cell_type": "code",
   "execution_count": 91,
   "metadata": {},
   "outputs": [],
   "source": [
    "second_prompt = ChatPromptTemplate.from_template(\n",
    "    \"Translate the following apology message to Turkish\"\n",
    "    \"\\n\\n{ApologyMessage}\"\n",
    ")\n",
    "# chain 2: input= English_Review and output= summary\n",
    "chain_two = LLMChain(llm=llm, prompt=second_prompt, \n",
    "                     output_key=\"Turkish\"\n",
    "                    )"
   ]
  },
  {
   "cell_type": "code",
   "execution_count": 92,
   "metadata": {},
   "outputs": [],
   "source": [
    "overall_chain = SequentialChain(\n",
    "    chains=[chain_one, chain_two],\n",
    "    input_variables=[\"Otels_Review\"],\n",
    "    output_variables=[\"ApologyMessage\", \"Turkish\"],\n",
    "    verbose=True\n",
    ")"
   ]
  },
  {
   "cell_type": "code",
   "execution_count": 95,
   "metadata": {},
   "outputs": [
    {
     "name": "stdout",
     "output_type": "stream",
     "text": [
      "\n",
      "\n",
      "\u001b[1m> Entering new SequentialChain chain...\u001b[0m\n",
      "\n",
      "\u001b[1m> Finished chain.\u001b[0m\n"
     ]
    },
    {
     "data": {
      "text/plain": [
       "{'Otels_Review': Title               Was by far too short.I’ll be back in February....\n",
       " PositiveReview      It’s been renovated to a exceptionally high st...\n",
       " NegativeReview      I cannot find a single negative point…which is...\n",
       " Score                                                            10.0\n",
       " GuestName                                                      Philip\n",
       " GuestCountry                                     United Arab Emirates\n",
       " RoomType                                             Budget Twin Room\n",
       " NumberOfNights                                               2 nights\n",
       " VisitDate                                                October 2022\n",
       " GroupType                                               Solo traveler\n",
       " PropertyResponse                                                  NaN\n",
       " Name: 62, dtype: object,\n",
       " 'ApologyMessage': 'Dear Philip,\\n\\nI hope this message finds you well. I wanted to reach out to you personally in regards to your recent stay at our property and your review on the website. Firstly, I wanted to express my gratitude for taking the time to leave your feedback. We truly value the opinions of our guests and it helps us to continually improve our services.\\n\\nHowever, I was deeply concerned to read about your negative experience during your stay. We take great pride in providing exceptional service and it is clear we fell short in your case. Please accept my sincerest apologies for any inconvenience caused.\\n\\nWe would like to assure you that we take your comments very seriously and we will be reviewing our procedures to ensure that we prevent similar issues from occurring in the future.\\n\\nOnce again, I am sorry for any disappointment caused and I hope that we will have the opportunity to welcome you back in February to provide you with the five-star experience that we are known for.\\n\\nThank you for choosing our property and for bringing this matter to our attention.\\n\\nBest regards,\\n\\n[Your Name]',\n",
       " 'Turkish': 'Sevgili Philip,\\n\\nUmarım mesajım seni iyi hissettirir. Geçtiğimiz günlerde konaklamanızı ve yaptığınız yorumları göz önünde bulundurarak size şahsen ulaşmak istedim. İlk olarak, geri bildiriminiz için teşekkür etmek isterim. Konuklarımızın düşüncelerini çok önemsiyor ve hizmetlerimizi sürekli olarak geliştirmemize yardımcı oluyor.\\n\\nAncak, konaklamanız sırasında olumsuz bir deneyim yaşadığınızı okuduğum için derin endişe duydum. Olağanüstü hizmet sunmaktan gurur duyuyoruz ve bu konuda sizin beklentilerinizi karşılayamadığımız için en içten özürlerimi sunuyorum.\\n\\nYorumlarınızı ciddiye alıyoruz ve ileride benzer sorunların yaşanmasını önlemek için prosedürlerimizi gözden geçireceğiz.\\n\\nTekrar hayal kırıklığına neden olduğum için üzgünüm ve Şubat ayında sizlere bilinen 5 yıldızlı deneyimi sunmak için fırsatımızın olacağını umuyorum.\\n\\nMekânımızı seçtiğiniz için teşekkür ediyor ve bu konuyu dikkatimize getirdiğiniz için de teşekkür ediyorum.\\n\\nSaygılarımla,\\n\\n[Adınız]'}"
      ]
     },
     "execution_count": 95,
     "metadata": {},
     "output_type": "execute_result"
    }
   ],
   "source": [
    "\n",
    "Otels_Review  = df.iloc[62]\n",
    "overall_chain(Otels_Review)\n"
   ]
  },
  {
   "cell_type": "code",
   "execution_count": 96,
   "metadata": {},
   "outputs": [
    {
     "name": "stdout",
     "output_type": "stream",
     "text": [
      "Title               Was by far too short.I’ll be back in February....\n",
      "PositiveReview      It’s been renovated to a exceptionally high st...\n",
      "NegativeReview      I cannot find a single negative point…which is...\n",
      "Score                                                            10.0\n",
      "GuestName                                                      Philip\n",
      "GuestCountry                                     United Arab Emirates\n",
      "RoomType                                             Budget Twin Room\n",
      "NumberOfNights                                               2 nights\n",
      "VisitDate                                                October 2022\n",
      "GroupType                                               Solo traveler\n",
      "PropertyResponse                                                  NaN\n",
      "Name: 62, dtype: object\n"
     ]
    }
   ],
   "source": [
    "Otels_Review  = df.iloc[62]\n",
    "print(Otels_Review)"
   ]
  },
  {
   "cell_type": "code",
   "execution_count": 97,
   "metadata": {},
   "outputs": [],
   "source": [
    "physics_template = \"\"\"You are a very smart physics professor. \\\n",
    "You are great at answering questions about physics in a concise\\\n",
    "and easy to understand manner. \\\n",
    "When you don't know the answer to a question you admit\\\n",
    "that you don't know.\n",
    "\n",
    "Here is a question:\n",
    "{input}\"\"\"\n",
    "\n",
    "\n",
    "math_template = \"\"\"You are a very good mathematician. \\\n",
    "You are great at answering math questions. \\\n",
    "You are so good because you are able to break down \\\n",
    "hard problems into their component parts, \n",
    "answer the component parts, and then put them together\\\n",
    "to answer the broader question.\n",
    "\n",
    "Here is a question:\n",
    "{input}\"\"\"\n",
    "\n",
    "history_template = \"\"\"You are a very good historian. \\\n",
    "You have an excellent knowledge of and understanding of people,\\\n",
    "events and contexts from a range of historical periods. \\\n",
    "You have the ability to think, reflect, debate, discuss and \\\n",
    "evaluate the past. You have a respect for historical evidence\\\n",
    "and the ability to make use of it to support your explanations \\\n",
    "and judgements.\n",
    "\n",
    "Here is a question:\n",
    "{input}\"\"\"\n",
    "\n",
    "\n",
    "computerscience_template = \"\"\" You are a successful computer scientist.\\\n",
    "You have a passion for creativity, collaboration,\\\n",
    "forward-thinking, confidence, strong problem-solving capabilities,\\\n",
    "understanding of theories and algorithms, and excellent communication \\\n",
    "skills. You are great at answering coding questions. \\\n",
    "You are so good because you know how to solve a problem by \\\n",
    "describing the solution in imperative steps \\\n",
    "that a machine can easily interpret and you know how to \\\n",
    "choose a solution that has a good balance between \\\n",
    "time complexity and space complexity. \n",
    "\n",
    "Here is a question:\n",
    "{input}\"\"\""
   ]
  },
  {
   "cell_type": "code",
   "execution_count": 98,
   "metadata": {},
   "outputs": [],
   "source": [
    "prompt_infos = [\n",
    "    {\n",
    "        \"name\": \"physics\", \n",
    "        \"description\": \"Good for answering questions about physics\", \n",
    "        \"prompt_template\": physics_template\n",
    "    },\n",
    "    {\n",
    "        \"name\": \"math\", \n",
    "        \"description\": \"Good for answering math questions\", \n",
    "        \"prompt_template\": math_template\n",
    "    },\n",
    "    {\n",
    "        \"name\": \"History\", \n",
    "        \"description\": \"Good for answering history questions\", \n",
    "        \"prompt_template\": history_template\n",
    "    },\n",
    "    {\n",
    "        \"name\": \"computer science\", \n",
    "        \"description\": \"Good for answering computer science questions\", \n",
    "        \"prompt_template\": computerscience_template\n",
    "    }\n",
    "]"
   ]
  },
  {
   "cell_type": "code",
   "execution_count": 99,
   "metadata": {},
   "outputs": [],
   "source": [
    "from langchain.chains.router import MultiPromptChain\n",
    "from langchain.chains.router.llm_router import LLMRouterChain,RouterOutputParser\n",
    "from langchain.prompts import PromptTemplate"
   ]
  },
  {
   "cell_type": "code",
   "execution_count": 100,
   "metadata": {},
   "outputs": [],
   "source": [
    "llm = ChatOpenAI(temperature=0)"
   ]
  },
  {
   "cell_type": "code",
   "execution_count": 101,
   "metadata": {},
   "outputs": [],
   "source": [
    "\n",
    "destination_chains = {}\n",
    "for p_info in prompt_infos:\n",
    "    name = p_info[\"name\"]\n",
    "    prompt_template = p_info[\"prompt_template\"]\n",
    "    prompt = ChatPromptTemplate.from_template(template=prompt_template)\n",
    "    chain = LLMChain(llm=llm, prompt=prompt)\n",
    "    destination_chains[name] = chain  \n",
    "    \n",
    "destinations = [f\"{p['name']}: {p['description']}\" for p in prompt_infos]\n",
    "destinations_str = \"\\n\".join(destinations)"
   ]
  },
  {
   "cell_type": "code",
   "execution_count": 102,
   "metadata": {},
   "outputs": [],
   "source": [
    "default_prompt = ChatPromptTemplate.from_template(\"{input}\")\n",
    "default_chain = LLMChain(llm=llm, prompt=default_prompt)"
   ]
  },
  {
   "cell_type": "code",
   "execution_count": 103,
   "metadata": {},
   "outputs": [],
   "source": [
    "MULTI_PROMPT_ROUTER_TEMPLATE = \"\"\"Given a raw text input to a \\\n",
    "language model select the model prompt best suited for the input. \\\n",
    "You will be given the names of the available prompts and a \\\n",
    "description of what the prompt is best suited for. \\\n",
    "You may also revise the original input if you think that revising\\\n",
    "it will ultimately lead to a better response from the language model.\n",
    "\n",
    "<< FORMATTING >>\n",
    "Return a markdown code snippet with a JSON object formatted to look like:\n",
    "```json\n",
    "{{{{\n",
    "    \"destination\": string \\ name of the prompt to use or \"DEFAULT\"\n",
    "    \"next_inputs\": string \\ a potentially modified version of the original input\n",
    "}}}}\n",
    "```\n",
    "\n",
    "REMEMBER: \"destination\" MUST be one of the candidate prompt \\\n",
    "names specified below OR it can be \"DEFAULT\" if the input is not\\\n",
    "well suited for any of the candidate prompts.\n",
    "REMEMBER: \"next_inputs\" can just be the original input \\\n",
    "if you don't think any modifications are needed.\n",
    "\n",
    "<< CANDIDATE PROMPTS >>\n",
    "{destinations}\n",
    "\n",
    "<< INPUT >>\n",
    "{{input}}\n",
    "\n",
    "<< OUTPUT (remember to include the ```json)>>\"\"\""
   ]
  },
  {
   "cell_type": "code",
   "execution_count": 104,
   "metadata": {},
   "outputs": [],
   "source": [
    "router_template = MULTI_PROMPT_ROUTER_TEMPLATE.format(\n",
    "    destinations=destinations_str\n",
    ")\n",
    "router_prompt = PromptTemplate(\n",
    "    template=router_template,\n",
    "    input_variables=[\"input\"],\n",
    "    output_parser=RouterOutputParser(),\n",
    ")\n",
    "\n",
    "router_chain = LLMRouterChain.from_llm(llm, router_prompt)"
   ]
  },
  {
   "cell_type": "code",
   "execution_count": 105,
   "metadata": {},
   "outputs": [],
   "source": [
    "chain = MultiPromptChain(router_chain=router_chain, \n",
    "                         destination_chains=destination_chains, \n",
    "                         default_chain=default_chain, verbose=True\n",
    "                        )"
   ]
  },
  {
   "cell_type": "code",
   "execution_count": 106,
   "metadata": {},
   "outputs": [
    {
     "name": "stdout",
     "output_type": "stream",
     "text": [
      "\n",
      "\n",
      "\u001b[1m> Entering new MultiPromptChain chain...\u001b[0m\n",
      "physics: {'input': 'What is a resistor?'}\n",
      "\u001b[1m> Finished chain.\u001b[0m\n"
     ]
    },
    {
     "data": {
      "text/plain": [
       "'A resistor is an electrical component that is used to resist the flow of electric current in a circuit. It is typically made of a material that has high resistance to the flow of electricity, such as carbon or metal. Resistors are used in a variety of electronic devices to control the amount of current flowing through a circuit and to protect other components from damage due to excessive current. They are also used to create voltage drops and to divide voltage in a circuit.'"
      ]
     },
     "execution_count": 106,
     "metadata": {},
     "output_type": "execute_result"
    }
   ],
   "source": [
    "chain.run(\"What is resistor?\")"
   ]
  },
  {
   "cell_type": "code",
   "execution_count": 107,
   "metadata": {},
   "outputs": [
    {
     "name": "stdout",
     "output_type": "stream",
     "text": [
      "\n",
      "\n",
      "\u001b[1m> Entering new MultiPromptChain chain...\u001b[0m\n",
      "math: {'input': 'what is 2123*123123'}\n",
      "\u001b[1m> Finished chain.\u001b[0m\n"
     ]
    },
    {
     "data": {
      "text/plain": [
       "'The answer to 2123*123123 is 261,383,529.'"
      ]
     },
     "execution_count": 107,
     "metadata": {},
     "output_type": "execute_result"
    }
   ],
   "source": [
    "chain.run(\"what is 2123*123123\")"
   ]
  },
  {
   "cell_type": "code",
   "execution_count": 108,
   "metadata": {},
   "outputs": [
    {
     "name": "stdout",
     "output_type": "stream",
     "text": [
      "\n",
      "\n",
      "\u001b[1m> Entering new MultiPromptChain chain...\u001b[0m\n",
      "None: {'input': 'Why does every cell in our body contain DNA?'}\n",
      "\u001b[1m> Finished chain.\u001b[0m\n"
     ]
    },
    {
     "data": {
      "text/plain": [
       "'Every cell in our body contains DNA because DNA carries the genetic information that determines the characteristics and functions of each cell. DNA contains the instructions for the synthesis of proteins, which are essential for the structure and function of cells. Additionally, DNA is responsible for the transmission of genetic information from one generation to the next. Therefore, every cell in our body needs DNA to carry out its specific functions and to maintain the integrity of the organism as a whole.'"
      ]
     },
     "execution_count": 108,
     "metadata": {},
     "output_type": "execute_result"
    }
   ],
   "source": [
    "chain.run(\"Why does every cell in our body contain DNA?\")"
   ]
  },
  {
   "cell_type": "code",
   "execution_count": 109,
   "metadata": {},
   "outputs": [
    {
     "name": "stdout",
     "output_type": "stream",
     "text": [
      "\n",
      "\n",
      "\u001b[1m> Entering new MultiPromptChain chain...\u001b[0m\n",
      "None: {'input': 'What is the Maven?'}\n",
      "\u001b[1m> Finished chain.\u001b[0m\n"
     ]
    },
    {
     "data": {
      "text/plain": [
       "\"Maven is a build automation tool used primarily for Java projects. It helps in managing the project's build, dependencies, and documentation. Maven uses a project object model (POM) file to define the project structure, dependencies, and build process. It also provides a standard directory layout for the project, making it easier for developers to understand and navigate the project structure. Maven can be used from the command line or integrated into an IDE. It is widely used in the Java community and is known for its ease of use and flexibility.\""
      ]
     },
     "execution_count": 109,
     "metadata": {},
     "output_type": "execute_result"
    }
   ],
   "source": [
    "chain.run(\"What is the Maven?\")"
   ]
  },
  {
   "cell_type": "code",
   "execution_count": 110,
   "metadata": {},
   "outputs": [
    {
     "name": "stdout",
     "output_type": "stream",
     "text": [
      "\n",
      "\n",
      "\u001b[1m> Entering new MultiPromptChain chain...\u001b[0m\n",
      "computer science: {'input': 'What is the Maven in Java Programming Language?'}\n",
      "\u001b[1m> Finished chain.\u001b[0m\n"
     ]
    },
    {
     "data": {
      "text/plain": [
       "'Maven is a build automation tool used primarily for Java projects. It helps manage project dependencies, build processes, and project documentation. Maven uses a Project Object Model (POM) file to define the project structure, dependencies, and build process. It also provides a standard directory layout for projects, making it easier for developers to understand and navigate the project structure. Maven is widely used in the Java community and is supported by many popular IDEs such as Eclipse and IntelliJ IDEA.'"
      ]
     },
     "execution_count": 110,
     "metadata": {},
     "output_type": "execute_result"
    }
   ],
   "source": [
    "chain.run(\"What is the Maven in Java Proggraming Lanugage?\")"
   ]
  },
  {
   "cell_type": "code",
   "execution_count": null,
   "metadata": {},
   "outputs": [],
   "source": []
  }
 ],
 "metadata": {
  "kernelspec": {
   "display_name": "base",
   "language": "python",
   "name": "python3"
  },
  "language_info": {
   "codemirror_mode": {
    "name": "ipython",
    "version": 3
   },
   "file_extension": ".py",
   "mimetype": "text/x-python",
   "name": "python",
   "nbconvert_exporter": "python",
   "pygments_lexer": "ipython3",
   "version": "3.9.12"
  },
  "orig_nbformat": 4
 },
 "nbformat": 4,
 "nbformat_minor": 2
}
